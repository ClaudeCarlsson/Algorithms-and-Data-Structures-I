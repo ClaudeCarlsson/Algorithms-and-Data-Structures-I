{
 "cells": [
  {
   "cell_type": "markdown",
   "metadata": {
    "id": "FaPfaovG2yjW"
   },
   "source": [
    "# Using Google Colab\n",
    "\n",
    "Read through the **Getting started** paragraph in the [official documentation](https://colab.research.google.com/). You may also want to take a look into the **More resources** section.\n",
    "\n",
    "To add a new code block or text block, use the buttons in the menus above or hover your mouse between two blocks, where more buttons should appear.\n",
    "\n",
    "To execute all code blocks within this document, select `Runtime -> Run all`. When you submit your solution, this should run without throwing an error.\n",
    "\n",
    "Sometimes, previously defined variables cause trouble in later executions. If this is the case, you can select `Runtime -> Restart runtime` to restart the runtime and erase all previous definitions."
   ]
  },
  {
   "cell_type": "markdown",
   "metadata": {
    "id": "EHTS4x5-pJGK"
   },
   "source": [
    "# Work Distribution\n",
    "\n",
    "***Your answer here. (MANDATORY)***"
   ]
  },
  {
   "cell_type": "markdown",
   "metadata": {
    "id": "HGCavid-yeyz"
   },
   "source": [
    "# Initialisation\n",
    "\n",
    "This section contains code that is later used to test, measure and plot your implementations. You need to run it once to initialise it.\n",
    "\n",
    "⇩ Click here to initialise the code."
   ]
  },
  {
   "cell_type": "code",
   "execution_count": 1,
   "metadata": {
    "id": "yeijLV1byk2z"
   },
   "outputs": [],
   "source": [
    "import unittest\n",
    "\n",
    "class TestHashTable(unittest.TestCase):\n",
    "  def setUp(self):\n",
    "    self.hash_table = HashTable(11, lambda e: e % 11)\n",
    "\n",
    "  def test_insert(self):\n",
    "    self.assertTrue(self.hash_table.insert(1, 4))\n",
    "    self.assertFalse(self.hash_table.insert(1, 5))\n",
    "    self.assertTrue(self.hash_table.insert(12, 6))\n",
    "    self._test_buckets(1)\n",
    "\n",
    "  def test_search(self):\n",
    "    self.test_insert()\n",
    "    self.assertEqual(self.hash_table.search(1), 4)\n",
    "    self.assertIsNone(self.hash_table.search(2))\n",
    "    self.assertEqual(self.hash_table.search(12), 6)\n",
    "\n",
    "  def test_delete(self):\n",
    "    self.test_insert()\n",
    "    self.assertTrue(self.hash_table.delete(1))\n",
    "    self.assertIsNone(self.hash_table.search(1))\n",
    "    self.assertFalse(self.hash_table.delete(1))\n",
    "    self.assertFalse(self.hash_table.delete(2))\n",
    "    self.assertTrue(self.hash_table.delete(12))\n",
    "    self.assertIsNone(self.hash_table.search(12))\n",
    "    self.assertFalse(self.hash_table.delete(12))\n",
    "    self._test_buckets()\n",
    "\n",
    "  def _test_buckets(self, i=None):\n",
    "    self.assertEqual(\n",
    "        self.hash_table.buckets,\n",
    "        [[(1, 4), (12, 6)] if idx == i else [] for idx in range(11)]\n",
    "    )\n",
    "\n",
    "class TestBST(unittest.TestCase):\n",
    "  def setUp(self):\n",
    "    self.root = None\n",
    "\n",
    "  def test_insert(self):\n",
    "    l = (2, (1, None, None), (3, None, None))\n",
    "    r2 = (6, (5, None, None), (7, None, None))\n",
    "    self.root = insert(self.root, 4)\n",
    "    self.assertEqual(self.root, (4, None, None))\n",
    "    self.root = insert(self.root, 2)\n",
    "    self.assertEqual(self.root, (4, (2, None, None), None))\n",
    "    self.root = insert(self.root, 3)\n",
    "    self.assertEqual(self.root, (4, (2, None, (3, None, None)), None))\n",
    "    self.root = insert(self.root, 1)\n",
    "    self.assertEqual(self.root, (4, l, None))\n",
    "    self.root = insert(self.root, 8)\n",
    "    self.assertEqual(self.root, (4, l, (8, None, None)))\n",
    "    self.root = insert(self.root, 6)\n",
    "    self.assertEqual(self.root, (4, l, (8, (6, None, None), None)))\n",
    "    self.root = insert(self.root, 7)\n",
    "    self.assertEqual(self.root, (4, l, (8, (6, None, (7, None, None)), None)))\n",
    "    self.root = insert(self.root, 5)\n",
    "    self.assertEqual(self.root, (4, l, (8, r2, None)))\n",
    "    self.root = insert(self.root, 9)\n",
    "    self.assertEqual(self.root, (4, l, (8, r2, (9, None, None))))\n",
    "\n",
    "  def test_delete(self):\n",
    "    l = (2, (1, None, None), (3, None, None))\n",
    "    r2 = (6, (5, None, None), (7, None, None))\n",
    "    self.test_insert()\n",
    "    self.root = delete(self.root, 4)\n",
    "    self.assertEqual(self.root, (5, l, (8, (6, None, (7, None, None)), (9, None, None))))\n",
    "    self.root = delete(self.root, 5)\n",
    "    self.assertEqual(self.root, (6, l, (8, (7, None, None), (9, None, None))))\n",
    "    self.root = delete(self.root, 6)\n",
    "    self.assertEqual(self.root, (7, l, (8, None, (9, None, None))))\n",
    "    self.root = delete(self.root, 7)\n",
    "    self.assertEqual(self.root, (8, l, (9, None, None)))\n",
    "    self.root = delete(self.root, 8)\n",
    "    self.assertEqual(self.root, (9, l, None))\n",
    "    self.root = delete(self.root, 9)\n",
    "    self.assertEqual(self.root, l)\n",
    "\n",
    "  def test_in_order_walk(self):\n",
    "    self.assertEqual(in_order_walk(self.root), [])\n",
    "    self.test_insert()\n",
    "    self.assertEqual(in_order_walk(self.root), list(range(1, 10)))\n",
    "    self.setUp()\n",
    "    self.test_delete()\n",
    "    self.assertEqual(in_order_walk(self.root), list(range(1, 4)))\n",
    "\n",
    "import random\n",
    "import time\n",
    "import matplotlib.pyplot as plt\n",
    "\n",
    "ht_sizes = [10**i for i in range(1, 4)]\n",
    "entry_nums = [125 * (j + 1) for j in range(16)]\n",
    "\n",
    "def plot_runtimes():\n",
    "  rts = {ht_size: {entry_num: [] for entry_num in entry_nums } for ht_size in ht_sizes}\n",
    "\n",
    "  for _ in range(5):\n",
    "    for ht_size in ht_sizes:\n",
    "      for entry_num in entry_nums:\n",
    "        ht = HashTable(ht_size, lambda e: e % ht_size)\n",
    "        start_time = time.time()\n",
    "        for _ in range(entry_num):\n",
    "          ht.insert(random.randrange(1_000_000), None)\n",
    "        for _ in range(entry_num):\n",
    "          ht.search(random.randrange(1_000_000))\n",
    "        end_time = time.time()\n",
    "        rts[ht_size][entry_num].append(end_time - start_time)\n",
    "\n",
    "  for ht_size in ht_sizes:\n",
    "    rt = [min(rts[ht_size][entry_num]) for entry_num in entry_nums]\n",
    "    plt.plot(entry_nums, rt, label=\"hash table size: \" + str(ht_size))\n",
    "\n",
    "  plt.xlabel('Elements in Table')\n",
    "  plt.ylabel('Runtime (seconds)')\n",
    "  plt.title('Runtime vs Elements')\n",
    "\n",
    "  plt.legend()\n",
    "  plt.show()"
   ]
  },
  {
   "cell_type": "markdown",
   "metadata": {
    "id": "14pVNiXBZf6E"
   },
   "source": [
    "# Hash Tables"
   ]
  },
  {
   "cell_type": "markdown",
   "metadata": {
    "id": "btOQKCwJzRvH"
   },
   "source": [
    "### 1. Hash Table Implementation (3 points)\n",
    "\n",
    "In this exercise, you will implement the class `HashTable`. We will use chaining for collision resolution. Internally, the data of the table is stored as a list of buckets, where each bucket is a list of key-value pairs. Note that compared to what was presented in the lecture, our implementation uses Python lists instead of linked lists for the buckets. Also, the lecture only focusses on the key of the tabel entries, but we will need to also store data for each entry. For this, we will use the Python *tuple* type: `(key, value)`.\n",
    "\n",
    "**Example:**\n",
    "```\n",
    "def hash_fun(key):\n",
    "  return key % 4\n",
    "\n",
    "ht = HashTable(4, hash_fun)\n",
    "ht.insert(1, \"value_1\")\n",
    "ht.insert(5, \"value_2\")\n",
    "ht.insert(3, \"value_3\")\n",
    "print(ht.buckets)\n",
    "```\n",
    "This code creates a new hash table of size 4 that uses the hash function `h(k) = k mod 4`. It then inserts the three key-value pairs `(1, \"value_1\")`, `(5, \"value_2\")` and `(3, \"value_3\")`. The print statement will output:\n",
    "```\n",
    "[[], [(1, 'value_1'), (5, 'value_2')], [], [(3, 'value_3')]]\n",
    "```\n",
    "\n",
    "To pass all tests, you must implement these functions:\n",
    "- `insert(key, value)`: If the key is present in the table, return `False`. Otherwise save the key-value-pair and return `True`.\n",
    "- `search(key)`: If the key is present in the table, return the value associated with it. Otherwise return None.\n",
    "- `delete(key)`: If the key is present in the table, remove the key-value-pair associated with it and return `True`. Otherwise return `False`.\n",
    "\n",
    "Furthermore, the class has already the following functions implemented:\n",
    "- `__init__(size, fun)`: Construct a new hash table of the given `size` that uses the hash function `fun` for all operations.\n",
    "- `print()`: Print the contents of the hash table to the console. *(Used in exercise 3 and 4 - you can adapt this function to your needs if you wish.)*\n",
    "\n",
    "All hash functions can be assumed to return integer values in the range `[0, size)`.\n",
    "\n",
    "**Remark about Python classes**\n",
    "\n",
    "If you do not know Object Oriented Programming and have never seen classes, or at least not in Python, all you need to know is the following. Inside the methods that you need to implement, you can access the hash function and the bucket list using `self.fun` and `self.buckets`, respectively."
   ]
  },
  {
   "cell_type": "code",
   "execution_count": 12,
   "metadata": {
    "id": "IReujo1Jxo8e"
   },
   "outputs": [
    {
     "name": "stderr",
     "output_type": "stream",
     "text": [
      "test_delete (__main__.TestHashTable.test_delete) ... ok\n",
      "test_insert (__main__.TestHashTable.test_insert) ... ok\n",
      "test_search (__main__.TestHashTable.test_search) ... ok\n",
      "\n",
      "----------------------------------------------------------------------\n",
      "Ran 3 tests in 0.002s\n",
      "\n",
      "OK\n"
     ]
    },
    {
     "data": {
      "text/plain": [
       "<unittest.main.TestProgram at 0x1c5ab4e2050>"
      ]
     },
     "execution_count": 12,
     "metadata": {},
     "output_type": "execute_result"
    }
   ],
   "source": [
    "class HashTable:\n",
    "    def __init__(self, size, fun):\n",
    "        self.fun = fun\n",
    "        self.buckets = [[] for _ in range(size)]\n",
    "\n",
    "    def insert(self, key, value):\n",
    "        index = self.fun(key)\n",
    "      \n",
    "        for i_kv in self.buckets[index]:\n",
    "            i_key, i_value = i_kv \n",
    "            if i_key == key:\n",
    "              return False\n",
    "\n",
    "        self.buckets[index].append((key, value))\n",
    "        return True\n",
    "\n",
    "    def search(self, key):\n",
    "        index = self.fun(key)\n",
    "        for i_kv in self.buckets[index]:\n",
    "            i_key, i_value = i_kv \n",
    "            if i_key == key:\n",
    "              return i_value     \n",
    "        return None\n",
    "\n",
    "    def delete(self, key):\n",
    "        index = self.fun(key)\n",
    "        idx = 0\n",
    "        for i_kv in self.buckets[index]:\n",
    "            i_key, i_value = i_kv \n",
    "            if i_key == key:\n",
    "                self.buckets[index].pop(idx)\n",
    "                return True\n",
    "            idx += 1\n",
    "        return False\n",
    "\n",
    "    def print(self):\n",
    "        for (idx, bucket) in enumerate(self.buckets):\n",
    "            print(\"bucket {:2d}: {:5d} elements\".format(idx, len(bucket)))\n",
    "\n",
    "# run the tests\n",
    "unittest.main(argv=[''], defaultTest='TestHashTable', verbosity=2, exit=False)"
   ]
  },
  {
   "cell_type": "markdown",
   "metadata": {
    "id": "gsLtS9r3WiAW"
   },
   "source": [
    "### 2. Runtime Comparison (1 point)\n",
    "\n",
    "The following code will measure the runtime of your hash table implementation.\n",
    "For three differently sized hash tables (size 10, 100 and 1000), the code first inserts and then searches for 125, 250, ..., 1875, 2000 keys.\n",
    "\n",
    "Compare the reported runtimes. What do you observe? How do you explain your observations?"
   ]
  },
  {
   "cell_type": "code",
   "execution_count": 13,
   "metadata": {
    "id": "UjiB3pIvWg-W"
   },
   "outputs": [
    {
     "data": {
      "image/png": "[encoded data removed]",
      "text/plain": [
       "<Figure size 640x480 with 1 Axes>"
      ]
     },
     "metadata": {},
     "output_type": "display_data"
    }
   ],
   "source": [
    "plot_runtimes()"
   ]
  },
  {
   "cell_type": "markdown",
   "metadata": {
    "id": "9RzsjW6DZIr9"
   },
   "source": [
    "**Answer:**\n",
    "\n",
    "***Your answer here.***"
   ]
  },
  {
   "cell_type": "markdown",
   "metadata": {
    "id": "SmnEzYeX7rdi"
   },
   "source": [
    "### 3. DNA Hashing (1 point)\n",
    "\n",
    "In DNA, there are four types of bases, abbreviated as A (Adenine), T (Thymine), C (Cytosine), and G (Guanine). These bases are the building blocks of DNA, and they form the genetic code that carries instructions for the development, functioning, and characteristics of living organisms. They occur in pairs, specifically as AT, TA, CG, and GC. A segment of DNA can be written as a string like `ATCGATCGGC`.\n",
    "\n",
    "Below, we define the functions:\n",
    "- `random_dna(n)` returns a random dna string that contains `n` base pairs.\n",
    "- `dna_test(ht)` inserts 1000 random dna strings containing `10` base pairs into the hashtable `ht` and prints the resulting buckets.\n",
    "- `h_dna(e)` is a hash function that returns the value $\\sum_{i=1}^{\\operatorname{len}(e)} |e_i| \\mod 19$, where $|e_i|$ is the ASCII-value of the $i$-th letter of the string $e$. In words, the sum of the character values of all characters in the\n",
    "string, modulo 19.\n",
    "\n",
    "Run the test and inspect its output. How does the hash function perform? Explain the results."
   ]
  },
  {
   "cell_type": "code",
   "execution_count": 15,
   "metadata": {
    "id": "AB4eGXwS7vuL"
   },
   "outputs": [
    {
     "name": "stdout",
     "output_type": "stream",
     "text": [
      "bucket  0:     0 elements\n",
      "bucket  1:     0 elements\n",
      "bucket  2:   209 elements\n",
      "bucket  3:     0 elements\n",
      "bucket  4:    16 elements\n",
      "bucket  5:    47 elements\n",
      "bucket  6:     0 elements\n",
      "bucket  7:   103 elements\n",
      "bucket  8:     2 elements\n",
      "bucket  9:     0 elements\n",
      "bucket 10:   275 elements\n",
      "bucket 11:     0 elements\n",
      "bucket 12:     1 elements\n",
      "bucket 13:   110 elements\n",
      "bucket 14:     0 elements\n",
      "bucket 15:    38 elements\n",
      "bucket 16:    13 elements\n",
      "bucket 17:     0 elements\n",
      "bucket 18:   186 elements\n"
     ]
    }
   ],
   "source": [
    "import random\n",
    "\n",
    "def random_dna(n):\n",
    "    return \"\".join(random.choice([\"AT\", \"TA\", \"CG\", \"GC\"]) for _ in range(n))\n",
    "\n",
    "def dna_test(ht):\n",
    "  for _ in range(1000):\n",
    "    ht.insert(random_dna(10), None)\n",
    "  ht.print()\n",
    "\n",
    "def h_dna(e):\n",
    "  return sum(map(ord, e)) % 19\n",
    "\n",
    "dna_test(HashTable(19, h_dna))"
   ]
  },
  {
   "cell_type": "markdown",
   "metadata": {
    "id": "j2zzu5h7Vibl"
   },
   "source": [
    "**Answer:**\n",
    "\n",
    "***Your answer here.***"
   ]
  },
  {
   "cell_type": "markdown",
   "metadata": {
    "id": "Z5fdqPJJVoy-"
   },
   "source": [
    "### 4. Better DNA Hashing (1 point - hard question)\n",
    "\n",
    "Improve the hashing function from the previous task, so that all buckets contain roughly an equal number of elements. Do not change the size of the hash table."
   ]
  },
  {
   "cell_type": "code",
   "execution_count": 18,
   "metadata": {
    "id": "K_HhgqgWSuQA"
   },
   "outputs": [
    {
     "name": "stdout",
     "output_type": "stream",
     "text": [
      "bucket  0:    63 elements\n",
      "bucket  1:    50 elements\n",
      "bucket  2:    54 elements\n",
      "bucket  3:    50 elements\n",
      "bucket  4:    47 elements\n",
      "bucket  5:    53 elements\n",
      "bucket  6:    62 elements\n",
      "bucket  7:    66 elements\n",
      "bucket  8:    47 elements\n",
      "bucket  9:    46 elements\n",
      "bucket 10:    44 elements\n",
      "bucket 11:    48 elements\n",
      "bucket 12:    46 elements\n",
      "bucket 13:    57 elements\n",
      "bucket 14:    48 elements\n",
      "bucket 15:    56 elements\n",
      "bucket 16:    52 elements\n",
      "bucket 17:    59 elements\n",
      "bucket 18:    51 elements\n"
     ]
    }
   ],
   "source": [
    "def h_dna_2(e):\n",
    "    # Define a mapping from nucleotide to its base-4 representation\n",
    "    mapping = {'A': '00', 'T': '01', 'C': '10', 'G': '11'}\n",
    "    \n",
    "    # Convert the DNA sequence to a base-4 string\n",
    "    base_4_str = ''.join([mapping[nucleotide] for nucleotide in e])\n",
    "    \n",
    "    # Convert the base-4 string to a base-10 integer\n",
    "    base_10_val = int(base_4_str, 4)\n",
    "    \n",
    "    # Return the hash value\n",
    "    return base_10_val % 19\n",
    "\n",
    "dna_test(HashTable(19, h_dna_2))"
   ]
  },
  {
   "cell_type": "markdown",
   "metadata": {
    "id": "7GLvhMGRftJ5"
   },
   "source": [
    "# Binary Search Trees"
   ]
  },
  {
   "cell_type": "markdown",
   "metadata": {
    "id": "JgUfrlBFf4HZ"
   },
   "source": [
    "### 5. BST Implementation (4 point)\n",
    "\n",
    "In this exercise, you will implement methods on binary search trees. We define a BST to be either `None` (the empty tree) or the tuple `(key, left, right)`, where `key` is the key at the current node, and `left` and `right` are BSTs themselves. For example, the tree obtained after inserting the keys `2`, `1`, and `3` is:\n",
    "\n",
    "`(2, (1, None, None), (3, None, None))`\n",
    "\n",
    "In Python, tuples are *immutable*. This means that once a tuple is created, you cannot change its content. Therefore, some of the following methods need to return a *new* tree instead of a *modified* one. You might notice that for the same reason, it is strongly advised to use a *recursive* solution.\n",
    "\n",
    "To pass all tests, you must implement these methods:\n",
    "- `insert(t, k)`: Insert the key `k` into the tree `t` and return the resulting tree.\n",
    "- `delete(t, k)`: Delete the key `k` from the tree  `t` and return the resulting tree. (If the key is not present in the tree, return the original tree.)\n",
    "- `in_order_walk(t, k)`: Return a list containing all elements of the BST *in order*, that is, from smallest to largest."
   ]
  },
  {
   "cell_type": "code",
   "execution_count": 20,
   "metadata": {
    "id": "EHtiSNMxhp3B"
   },
   "outputs": [
    {
     "name": "stderr",
     "output_type": "stream",
     "text": [
      "test_delete (__main__.TestBST.test_delete) ... ok\n",
      "test_in_order_walk (__main__.TestBST.test_in_order_walk) ... ok\n",
      "test_insert (__main__.TestBST.test_insert) ... ok\n",
      "\n",
      "----------------------------------------------------------------------\n",
      "Ran 3 tests in 0.003s\n",
      "\n",
      "OK\n"
     ]
    },
    {
     "data": {
      "text/plain": [
       "<unittest.main.TestProgram at 0x1c5bb079ad0>"
      ]
     },
     "execution_count": 20,
     "metadata": {},
     "output_type": "execute_result"
    }
   ],
   "source": [
    "def insert(t, k):\n",
    "    # Base case: If tree is empty, return a new node\n",
    "    if t is None:\n",
    "        return (k, None, None)\n",
    "    \n",
    "    # If key is smaller than current node's key, insert into left subtree\n",
    "    if k < t[0]:\n",
    "        return (t[0], insert(t[1], k), t[2])\n",
    "    \n",
    "    # If key is larger, insert into right subtree\n",
    "    elif k > t[0]:\n",
    "        return (t[0], t[1], insert(t[2], k))\n",
    "    \n",
    "    # If key is already present, return the tree as-is\n",
    "    else:\n",
    "        return t\n",
    "\n",
    "def delete(t, k):\n",
    "    if t is None:\n",
    "        return None\n",
    "\n",
    "    # If the key to be deleted is smaller than the current node's key,\n",
    "    # it lies in the left subtree\n",
    "    if k < t[0]:\n",
    "        return (t[0], delete(t[1], k), t[2])\n",
    "\n",
    "    # If the key to be deleted is larger than the current node's key,\n",
    "    # it lies in the right subtree\n",
    "    elif k > t[0]:\n",
    "        return (t[0], t[1], delete(t[2], k))\n",
    "\n",
    "    # If key is the same as current node's key, then this is the node to be deleted\n",
    "    else:\n",
    "        # Node with only one child or no child\n",
    "        if t[1] is None:\n",
    "            return t[2]\n",
    "        elif t[2] is None:\n",
    "            return t[1]\n",
    "\n",
    "        # Node with two children: Get the inorder successor (smallest in the right subtree)\n",
    "        temp = _min_value_node(t[2])\n",
    "        return (temp[0], t[1], delete(t[2], temp[0]))\n",
    "\n",
    "def _min_value_node(t):\n",
    "    current = t\n",
    "    # Loop to find the leftmost leaf\n",
    "    while current[1] is not None:\n",
    "        current = current[1]\n",
    "    return current\n",
    "\n",
    "def in_order_walk(t):\n",
    "    if t:\n",
    "        return in_order_walk(t[1]) + [t[0]] + in_order_walk(t[2])\n",
    "    else:\n",
    "        return []\n",
    "    \n",
    "\n",
    "\n",
    "# run the tests\n",
    "unittest.main(argv=[''], defaultTest='TestBST', verbosity=2, exit=False)"
   ]
  },
  {
   "cell_type": "code",
   "execution_count": null,
   "metadata": {},
   "outputs": [],
   "source": []
  }
 ],
 "metadata": {
  "colab": {
   "collapsed_sections": [
    "HGCavid-yeyz"
   ],
   "provenance": []
  },
  "kernelspec": {
   "display_name": "Python 3 (ipykernel)",
   "language": "python",
   "name": "python3"
  },
  "language_info": {
   "codemirror_mode": {
    "name": "ipython",
    "version": 3
   },
   "file_extension": ".py",
   "mimetype": "text/x-python",
   "name": "python",
   "nbconvert_exporter": "python",
   "pygments_lexer": "ipython3",
   "version": "3.11.5"
  }
 },
 "nbformat": 4,
 "nbformat_minor": 4
}
